{
 "cells": [
  {
   "cell_type": "markdown",
   "metadata": {},
   "source": [
    "# Tools and OpenAI Functions\n",
    "We'll focus on SerpAPI using OpenAI as our Agent.\n",
    "\n",
    "An agent decides *when* to use tools based on the needs of the time."
   ]
  },
  {
   "cell_type": "code",
   "execution_count": 5,
   "metadata": {},
   "outputs": [
    {
     "name": "stdout",
     "output_type": "stream",
     "text": [
      "Note: you may need to restart the kernel to use updated packages.\n"
     ]
    }
   ],
   "source": [
    "%pip install -Uq langchain langchain-openai google-search-results numexpr langsmith langchainhub"
   ]
  },
  {
   "cell_type": "code",
   "execution_count": 6,
   "metadata": {},
   "outputs": [],
   "source": [
    "import os\n",
    "from uuid import uuid4\n",
    "\n",
    "unique_id = uuid4().hex[0:8]\n",
    "os.environ[\"LANGSMITH_TRACING_V2\"] = \"true\"\n",
    "os.environ[\"LANGCHAIN_PROJECT\"] = \"serpsearchingtooltesting\"\n",
    "#os.environ[\"LANGCHAIN_ENDPOINT\"] = \"https://api.smith.langchain.com\"\n",
    "os.environ[\"LANGCHAIN_API_KEY\"] = \"\"\n",
    "os.environ[\"SERPAPI_API_KEY\"] = \"\"\n",
    "# We will use OpenAI as the Agent\n",
    "os.environ[\"OPENAI_API_KEY\"] = \"\""
   ]
  },
  {
   "cell_type": "code",
   "execution_count": 7,
   "metadata": {},
   "outputs": [],
   "source": [
    "# This step is for an outdated version of LangChain/LangSmith, \\\n",
    "    # but it's still worth leaving in for your knowledge and reference \n",
    "from langsmith import Client\n",
    "\n",
    "# Initialize the LangSmith client\n",
    "client = Client()"
   ]
  },
  {
   "cell_type": "code",
   "execution_count": 8,
   "metadata": {},
   "outputs": [],
   "source": [
    "from operator import itemgetter\n",
    "\n",
    "from langchain import hub\n",
    "from langchain.agents import AgentExecutor, load_tools\n",
    "from langchain.agents.format_scratchpad import format_to_openai_functions\n",
    "from langchain.agents.output_parsers import OpenAIFunctionsAgentOutputParser\n",
    "from langchain.chat_models import ChatOpenAI\n",
    "from langchain.tools.render import format_tool_to_openai_function\n",
    "\n",
    "# Initialize the LLM using a Chat model\n",
    "llm = ChatOpenAI(model_name=\"gpt-3.5-turbo-1106\", temperature=0.2)\n",
    "\n",
    "# Load your tools by using the built-in ones for quick testing. You may wish to try building a custom tool\n",
    "# llm-math is an especially powerful built-in tool, since LLMs can't perform math, \\\n",
    "    # they just predict the next token in the conversation\n",
    "tools = load_tools([\"serpapi\", \"llm-math\"], llm=llm)\n",
    "\n",
    "# Bind the tools to the LLM\n",
    "llm_with_tools = llm.bind(functions=[format_tool_to_openai_function(t) for t in tools])\n",
    "\n",
    "# https://smith.langchain.com/hub/daethyra/rag-prompt\n",
    "prompt = hub.pull(\"wfh/agent-lcel-prompt\")"
   ]
  },
  {
   "cell_type": "code",
   "execution_count": 9,
   "metadata": {},
   "outputs": [],
   "source": [
    "# The scratchpad is imperative for agents so they don't lose their place as they take action\n",
    "def format_scratchpad(x: dict) -> str:\n",
    "    return format_to_openai_functions(x[\"intermediate_steps\"])\n",
    "\n",
    "def get_chat_history(x: dict) -> list:\n",
    "    return x.get(\"chat_history\", [])"
   ]
  },
  {
   "cell_type": "code",
   "execution_count": 10,
   "metadata": {},
   "outputs": [],
   "source": [
    "# Construct the Agent by using LangChain Expression Language to chain functionality together\n",
    "agent = (\n",
    "    {\n",
    "        \"input\": itemgetter(\"input\"),\n",
    "        \"agent_scratchpad\": format_scratchpad,\n",
    "        \"chat_history\": get_chat_history,\n",
    "    }\n",
    "    | prompt\n",
    "    | llm_with_tools\n",
    "    | OpenAIFunctionsAgentOutputParser()\n",
    ").with_config(run_name=\"Agent\")\n",
    "\n",
    "# Define the Agent Executor\n",
    "agent_executor = AgentExecutor(\n",
    "    agent=agent,\n",
    "    tools=tools,\n",
    ")"
   ]
  },
  {
   "cell_type": "code",
   "execution_count": 11,
   "metadata": {},
   "outputs": [
    {
     "data": {
      "text/plain": [
       "[{'input': \"What's the distance from Earth to the moon in miles multiplied by 77?\",\n",
       "  'output': 'The distance from Earth to the moon is approximately 238,855 miles. When multiplied by 77, the result is 18,391,835 miles.'},\n",
       " ValueError('LLMMathChain._evaluate(\"\\ndistance from Earth to Mars in miles - distance from Earth to the moon in miles\\n\") raised error: invalid syntax (<expr>, line 1). Please try again with a valid numerical expression'),\n",
       " {'input': 'How many stars are there in the Milky Way multiplied by the number of planets in our solar system',\n",
       "  'output': 'The number of stars in the Milky Way multiplied by the number of planets in our solar system is 1,600,000,000,000.'},\n",
       " {'input': 'How old is the Sun in years multiplied by the number of planets in our solar system',\n",
       "  'output': 'The age of the Sun in years multiplied by the number of planets in our solar system is 36,800,000,000 years.'},\n",
       " {'input': 'How many more stars are there in our galaxy than in our solar system?',\n",
       "  'output': 'There are approximately 99,999,999,999 more stars in our galaxy (Milky Way) than in our solar system.'},\n",
       " {'input': 'What is the number of stars in the Andromeda Galaxy divided by the number of stars in the Milky Way?',\n",
       "  'output': 'The number of stars in the Andromeda Galaxy divided by the number of stars in the Milky Way is 10.'},\n",
       " {'input': 'How much larger is the biggest known star compared to the Sun?',\n",
       "  'output': 'The biggest known star, UY Scuti, has a radius around 1,700 times larger than the radius of the Sun. This means that the volume of almost 5 billion Suns could fit inside a sphere the size of UY Scuti.'},\n",
       " {'input': 'What is the surface area of Earth in feet divided by the number of people on Earth?',\n",
       "  'output': 'The surface area of Earth in feet divided by the number of people on Earth is approximately 0.313 square feet per person.'},\n",
       " {'input': 'How big is a black hole in miles divided by the diameter of Earth in miles?',\n",
       "  'output': 'The size of a black hole in miles divided by the diameter of Earth in miles is approximately 44,511,975,522.57656.'},\n",
       " ValueError('LLMMathChain._evaluate(\"\\ndiameter_of_Jupiter / diameter_of_Mercury\\n\") raised error: \\'diameter_of_Jupiter\\'. Please try again with a valid numerical expression')]"
      ]
     },
     "execution_count": 7,
     "metadata": {},
     "output_type": "execute_result"
    }
   ],
   "source": [
    "inputs = [\n",
    "    \"What's the distance from Earth to the moon in miles multiplied by 77?\",\n",
    "    \"How much further away is Mars from Earth than Earth to the moon?\",\n",
    "    \"How many stars are there in the Milky Way multiplied by the number of planets in our solar system\",\n",
    "    \"How old is the Sun in years multiplied by the number of planets in our solar system\",\n",
    "    \"How many more stars are there in our galaxy than in our solar system?\",\n",
    "    \"What is the number of stars in the Andromeda Galaxy divided by the number of stars in the Milky Way?\",\n",
    "    \"How much larger is the biggest known star compared to the Sun?\",\n",
    "    \"What is the surface area of Earth in feet divided by the number of people on Earth?\",\n",
    "    \"How big is a black hole in miles divided by the diameter of Earth in miles?\",\n",
    "    \"How much larger is the biggest planet compared to the smallest planet?\"\n",
    "]\n",
    "\n",
    "# Batch process the inputs using the Agent Executor\n",
    "results = agent_executor.batch([{\"input\": x} for x in inputs], return_exceptions=True)\n",
    "results"
   ]
  }
 ],
 "metadata": {
  "kernelspec": {
   "display_name": "Python 3",
   "language": "python",
   "name": "python3"
  },
  "language_info": {
   "codemirror_mode": {
    "name": "ipython",
    "version": 3
   },
   "file_extension": ".py",
   "mimetype": "text/x-python",
   "name": "python",
   "nbconvert_exporter": "python",
   "pygments_lexer": "ipython3",
   "version": "3.10.10"
  }
 },
 "nbformat": 4,
 "nbformat_minor": 2
}
