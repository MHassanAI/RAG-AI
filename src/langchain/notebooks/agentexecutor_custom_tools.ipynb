{
 "cells": [
  {
   "cell_type": "markdown",
   "metadata": {},
   "source": [
    "# Custom Search Tools for Retrieval Agents\n",
    "\n",
    "## Description\n",
    "\n",
    "**Goals:**\n",
    "\n",
    "* Learn how to create tools that LLMs can use to answer questions\n",
    "* Create a ReAct agent\n",
    "* Get a satisfactory response\n",
    "\n",
    "**Learning objectives:**\n",
    "\n",
    "* Apply the `@tool` decorator to create a tool for an LLM agent, from a Python function\n",
    "* Evaluate the quality of responses from the tools' results\n",
    "* Create an Agent using [LCEL](https://python.langchain.com/docs/expression_language/why \"Why Use LCEL?\") chain.\n"
   ]
  },
  {
   "cell_type": "code",
   "execution_count": 1,
   "metadata": {},
   "outputs": [
    {
     "name": "stdout",
     "output_type": "stream",
     "text": [
      "Note: you may need to restart the kernel to use updated packages.\n"
     ]
    }
   ],
   "source": [
    "%pip install -Uq langchain langchainhub huggingface_hub transformers jinja2 numexpr langchain-openai langchain-anthropic"
   ]
  },
  {
   "cell_type": "markdown",
   "metadata": {},
   "source": [
    "## [@tool decorator](https://python.langchain.com/docs/modules/agents/tools/custom_tools \"Learn more\")\n",
    "\n",
    "The `@tool` decorator is the simplest way to define a custom tool. The decorator uses the function name as the tool name by default, but this can be overridden by passing a string as the first argument. Additionally, the decorator will use the function's docstring as the tool's description - so a **docstring** ***MUST*** be provided.\n",
    "\n",
    "Ex.\n",
    "\n",
    "```python\n",
    "@tool\n",
    "def multiply(a: int, b: int) -> int:\n",
    "    \"\"\"Multiply two numbers.\"\"\"\n",
    "    return a * b\n",
    "```\n",
    "\n",
    "We can access the tool's properties directly\n",
    "```python\n",
    "print(multiply.name)\n",
    "print(multiply.description)\n",
    "print(multiply.args)\n",
    "```\n",
    "\n",
    "```shell\n",
    "multiply\n",
    "multiply(a: int, b: int) -> int - Multiply two numbers.\n",
    "{'a': {'title': 'A', 'type': 'integer'}, 'b': {'title': 'B', 'type': 'integer'}}\n",
    "```\n",
    "\n",
    "Later we'll be able to observe the difference in output format depending on whether we call our functions with the `@tool` decorator as regular functions, or as tools."
   ]
  },
  {
   "cell_type": "code",
   "execution_count": 2,
   "metadata": {},
   "outputs": [],
   "source": [
    "from langchain.tools import tool, BaseTool"
   ]
  },
  {
   "cell_type": "markdown",
   "metadata": {},
   "source": [
    "## [Arxiv Search](https://python.langchain.com/docs/integrations/tools/arxiv \"Learn more\")"
   ]
  },
  {
   "cell_type": "code",
   "execution_count": 3,
   "metadata": {},
   "outputs": [
    {
     "name": "stdout",
     "output_type": "stream",
     "text": [
      "Note: you may need to restart the kernel to use updated packages.\n"
     ]
    }
   ],
   "source": [
    "%pip install -Uq arxiv"
   ]
  },
  {
   "cell_type": "code",
   "execution_count": 4,
   "metadata": {},
   "outputs": [],
   "source": [
    "from langchain.utilities import ArxivAPIWrapper"
   ]
  },
  {
   "cell_type": "code",
   "execution_count": 5,
   "metadata": {},
   "outputs": [],
   "source": [
    "@tool(\"arxiv_search\")\n",
    "def arxiv_search(query: str) -> str:\n",
    "    \"\"\"\n",
    "    This function uses the ArxivAPIWrapper to search for scientific papers on Arxiv.\n",
    "\n",
    "    Parameters:\n",
    "    query (str): The search term to use in the query.\n",
    "\n",
    "    Returns:\n",
    "    str: The search results from Arxiv.\n",
    "    \"\"\"\n",
    "    # Create an instance of the ArxivAPIWrapper\n",
    "    arxiv = ArxivAPIWrapper()\n",
    "\n",
    "    # Perform the search query\n",
    "    results = arxiv.run(query)\n",
    "\n",
    "    # Return the search results\n",
    "    return results"
   ]
  },
  {
   "cell_type": "code",
   "execution_count": 6,
   "metadata": {},
   "outputs": [
    {
     "name": "stdout",
     "output_type": "stream",
     "text": [
      "Published: 2023-06-21\n",
      "Title: TauPETGen: Text-Conditional Tau PET Image Synthesis Based on Latent Diffusion Models\n",
      "Authors: Se-In Jang, Cristina Lois, Emma Thibault, J. Alex Becker, Yafei Dong, Marc D. Normandin, Julie C. Price, Keith A. Johnson, Georges El Fakhri, Kuang Gong\n",
      "Summary: In this work, we developed a novel text-guided image synthesis technique\n",
      "which could generate realistic tau PET images from textual descriptions and the\n",
      "subject's MR image. The generated tau PET images have the potential to be used\n",
      "in examining relations between different measures and also increasing the\n",
      "public availability of tau PET datasets. The method was based on latent\n",
      "diffusion models. Both textual descriptions and the subject's MR prior image\n",
      "were utilized as conditions during image generation. The subject's MR image can\n",
      "provide anatomical details, while the text descriptions, such as gender, scan\n",
      "time, cognitive test scores, and amyloid status, can provide further guidance\n",
      "regarding where the tau neurofibrillary tangles might be deposited. Preliminary\n",
      "experimental results based on clinical [18F]MK-6240 datasets demonstrate the\n",
      "feasibility of the proposed method in generating realistic tau PET images at\n",
      "different clinical stages.\n"
     ]
    }
   ],
   "source": [
    "print(arxiv_search(\"2306.11984\"))"
   ]
  },
  {
   "cell_type": "code",
   "execution_count": 7,
   "metadata": {},
   "outputs": [
    {
     "name": "stdout",
     "output_type": "stream",
     "text": [
      "arxiv_search \n",
      "\n",
      " arxiv_search(query: str) -> str - This function uses the ArxivAPIWrapper to search for scientific papers on Arxiv.\n",
      "\n",
      "    Parameters:\n",
      "    query (str): The search term to use in the query.\n",
      "\n",
      "    Returns:\n",
      "    str: The search results from Arxiv. \n",
      "\n",
      " {'query': {'title': 'Query', 'type': 'string'}}\n"
     ]
    }
   ],
   "source": [
    "print(\n",
    "        arxiv_search.name,\n",
    "        \"\\n\\n\",\n",
    "        arxiv_search.description,\n",
    "        \"\\n\\n\",\n",
    "        arxiv_search.args\n",
    "    )"
   ]
  },
  {
   "cell_type": "code",
   "execution_count": 8,
   "metadata": {},
   "outputs": [
    {
     "data": {
      "text/plain": [
       "\"Published: 2023-06-21\\nTitle: TauPETGen: Text-Conditional Tau PET Image Synthesis Based on Latent Diffusion Models\\nAuthors: Se-In Jang, Cristina Lois, Emma Thibault, J. Alex Becker, Yafei Dong, Marc D. Normandin, Julie C. Price, Keith A. Johnson, Georges El Fakhri, Kuang Gong\\nSummary: In this work, we developed a novel text-guided image synthesis technique\\nwhich could generate realistic tau PET images from textual descriptions and the\\nsubject's MR image. The generated tau PET images have the potential to be used\\nin examining relations between different measures and also increasing the\\npublic availability of tau PET datasets. The method was based on latent\\ndiffusion models. Both textual descriptions and the subject's MR prior image\\nwere utilized as conditions during image generation. The subject's MR image can\\nprovide anatomical details, while the text descriptions, such as gender, scan\\ntime, cognitive test scores, and amyloid status, can provide further guidance\\nregarding where the tau neurofibrillary tangles might be deposited. Preliminary\\nexperimental results based on clinical [18F]MK-6240 datasets demonstrate the\\nfeasibility of the proposed method in generating realistic tau PET images at\\ndifferent clinical stages.\""
      ]
     },
     "execution_count": 8,
     "metadata": {},
     "output_type": "execute_result"
    }
   ],
   "source": [
    "# Call the function as a tool\n",
    "arxiv_search.run(\"2306.11984\")"
   ]
  },
  {
   "cell_type": "markdown",
   "metadata": {},
   "source": [
    "## [Google Jobs](https://python.langchain.com/docs/integrations/tools/google_jobs \"Learn more\")\n",
    "\n",
    "You'll need a SERPAPI API key to use this tool. Get one here.\n",
    "\n",
    "Below we'll create a tool that searches Google for jobs based on "
   ]
  },
  {
   "cell_type": "code",
   "execution_count": 9,
   "metadata": {},
   "outputs": [
    {
     "name": "stdout",
     "output_type": "stream",
     "text": [
      "Note: you may need to restart the kernel to use updated packages.\n"
     ]
    }
   ],
   "source": [
    "%pip install -Uq google-search-results\n",
    "\n",
    "import os\n",
    "\n",
    "os.environ[\"SERPAPI_API_KEY\"] = \"\""
   ]
  },
  {
   "cell_type": "code",
   "execution_count": 10,
   "metadata": {},
   "outputs": [],
   "source": [
    "from langchain.tools import tool"
   ]
  },
  {
   "cell_type": "code",
   "execution_count": 11,
   "metadata": {},
   "outputs": [],
   "source": [
    "from langchain.tools.google_jobs import GoogleJobsQueryRun\n",
    "from langchain.utilities.google_jobs import GoogleJobsAPIWrapper"
   ]
  },
  {
   "cell_type": "code",
   "execution_count": 12,
   "metadata": {},
   "outputs": [],
   "source": [
    "@tool(\"google_job_search\")\n",
    "def google_job_search(job_title: str) -> str:\n",
    "    \"\"\"\n",
    "    This function uses the GoogleJobsAPIWrapper to search for jobs on Google Jobs.\n",
    "\n",
    "    Parameters:\n",
    "    job_title (str): The search term(s) to use in the query.\n",
    "\n",
    "    Returns:\n",
    "    str: The search results from Google Jobs.\n",
    "    \"\"\"\n",
    "    # create an instance of the GoogleJobsQueryRun\n",
    "    gjs = GoogleJobsQueryRun(api_wrapper=GoogleJobsAPIWrapper())\n",
    "\n",
    "    # Perform the search query\n",
    "    results = gjs.run(job_title)\n",
    "\n",
    "    # return the results\n",
    "    return results"
   ]
  },
  {
   "cell_type": "code",
   "execution_count": 13,
   "metadata": {},
   "outputs": [
    {
     "name": "stdout",
     "output_type": "stream",
     "text": [
      "\n",
      "_______________________________________________\n",
      "Job Title: Software Engineer\n",
      "Company Name: Availity\n",
      "Location:  Anywhere \n",
      "Description: Availity delivers revenue cycle and related business solutions for health care professionals who want to build healthy, thriving organizations. Availity has the powerful tools, actionable insights and expansive network reach that medical businesses need to get an edge in an industry constantly redefined by change.\n",
      "\n",
      "Analyzes, designs, programs, debugs and modifies software enhancements and/or new products used in local, networked, cloud-based or Internet-related computer programs. Code may be used in commercial or end-user applications, such as materials management, financial management, HRIS, mobile apps or desktop applications products. Using current programming language and technologies, writes code, completes programming and performs testing and debugging of applications. Completes documentation and procedures for installation and maintenance. May interact with users to define system requirements and/or necessary modifications.\n",
      "\n",
      "Availity LLC – Jacksonville, FL\n",
      "\n",
      "Title: Software... Engineer\n",
      "\n",
      "Duties: The Software Engineer at Availity LLC in Jacksonville, FL will be responsible for the detailed design, documentation, development, unit testing and maintenance of internally developed applications for Availity business partners. Maintain system architecture and automate the pipeline process for handling large applications with consideration of project specifications and guidelines. Improve speed, efficiency, and scalability of the continuous integration environment, automating wherever possible using Python tools, SQL, RESTful APIs, and other frameworks. Provide input on programming or development standards using Python libraries, including NumPy and Pandas, in-house libraries, web interface development, and data management. Consult on design and development of databases using Python base API, SQL, and PyODBC driver. Participate in business and technical decision-making for infrastructure and integration with a focus on requirement and architectural standards based on team needs. Analyze existing programs and modify application code to enhance or develop new programs. Write programs spanning multiple platforms. Provide input on large, complex projects, applying skills in multiple technical environments and process knowledge of specific business areas. Identify system requirements and issues depending on business needs and provide alternative approaches for change or upgrade. Work closely with other developers and teams to update and deploy large and complex code bases. Document detailed technical changes or upgrades for subsystems and identify integration points. Perform unit testing and complex debugging. Estimate work efforts for AIR backlog. Determine technical feasibility and feedback on new product objectives. Partner with all stakeholders to identify potential slippage or inter-team dependencies. Position is 100% remote.\n",
      "\n",
      "Requirements: Master’s degree in Computer Science, or a directly related field, plus 2 years of experience working in a software developer occupation or related occupation. The 2 years of experience must include 2 years of experience with each of the following: (1) working in an agile or iterative development environment; (2) NumPy, Pandas, Scikit, SciPy, TensorFlow, NLTK, or Matplotlib; (3) RESTful APIs with backend services; (4) scripting languages, including Python, SQL, HTML, JavaScript, or Shell; (5) data modeling, data architecture design, and database technology, including SQL database; (6) Software Development Lifecycle or iterative development environment; (7) building CI/CD pipelines and test driven development; (8) designing, prototyping, and demonstrating new features and components of front-end or back-end to ensure compliance with requirements for clinical environments and medical labs; (9) source control, build tools, and GIT, including GitHub or Bitbucket; (10) designing, developing, and maintaining mission-critical and sophisticated systems to deliver high-availability and performance for large applications.\n",
      "\n",
      "This notice is subject to Availity LLC's employee referral program.\n",
      "\n",
      "Interested candidates should apply online at https://availity.wd1.myworkdayjobs.com/Availity_Careers_US. Contact Carla King at Carla.king@availity.com if you have questions or need information about this application.\n",
      "\n",
      "Availity is an equal opportunity employer and makes decisions in employment matters without regard to race, religious creed, color, age, sex, sexual orientation, gender identity, gender expression, genetic information, national origin, religion, marital status, medical condition, disability, military service, pregnancy, childbirth and related medical conditions, or any other classification protected by federal, state, and local laws and ordinances.\n",
      "\n",
      "Availity is a drug-free workplace. Candidates are required to pass a drug test before beginning employment.\n",
      "\n",
      "NOTICE: Federal law requires all employers to verify the identity and employment eligibility of all persons hired to work in the United States. When required by state law or federal regulation, Availity uses I-9, Employment Eligibility Verification in conjunction with E-Verify to determine employment eligibility. Learn more about E-Verify at http://www.dhs.gov/e-verify.\n",
      "\n",
      "Click the links below to view Federal Employment Notices.\n",
      "\n",
      "Family & Medical Leave Act Equal Employment Law Poster Pay Transparency Employee Polygraph Protection Act IER Right to Work Poster Important Notice about Employee Rights to Organize and Bargain Collectively with Their Employers\n",
      "_______________________________________________\n",
      "\n",
      "\n"
     ]
    }
   ],
   "source": [
    "# Print the results of a search, as a regular function\n",
    "print(google_job_search(\"Software Engineer\"))"
   ]
  },
  {
   "cell_type": "code",
   "execution_count": 14,
   "metadata": {},
   "outputs": [
    {
     "data": {
      "text/plain": [
       "\"\\n_______________________________________________\\nJob Title: Software Engineer\\nCompany Name: Availity\\nLocation:  Anywhere \\nDescription: Availity delivers revenue cycle and related business solutions for health care professionals who want to build healthy, thriving organizations. Availity has the powerful tools, actionable insights and expansive network reach that medical businesses need to get an edge in an industry constantly redefined by change.\\n\\nAnalyzes, designs, programs, debugs and modifies software enhancements and/or new products used in local, networked, cloud-based or Internet-related computer programs. Code may be used in commercial or end-user applications, such as materials management, financial management, HRIS, mobile apps or desktop applications products. Using current programming language and technologies, writes code, completes programming and performs testing and debugging of applications. Completes documentation and procedures for installation and maintenance. May interact with users to define system requirements and/or necessary modifications.\\n\\nAvaility LLC – Jacksonville, FL\\n\\nTitle: Software... Engineer\\n\\nDuties: The Software Engineer at Availity LLC in Jacksonville, FL will be responsible for the detailed design, documentation, development, unit testing and maintenance of internally developed applications for Availity business partners. Maintain system architecture and automate the pipeline process for handling large applications with consideration of project specifications and guidelines. Improve speed, efficiency, and scalability of the continuous integration environment, automating wherever possible using Python tools, SQL, RESTful APIs, and other frameworks. Provide input on programming or development standards using Python libraries, including NumPy and Pandas, in-house libraries, web interface development, and data management. Consult on design and development of databases using Python base API, SQL, and PyODBC driver. Participate in business and technical decision-making for infrastructure and integration with a focus on requirement and architectural standards based on team needs. Analyze existing programs and modify application code to enhance or develop new programs. Write programs spanning multiple platforms. Provide input on large, complex projects, applying skills in multiple technical environments and process knowledge of specific business areas. Identify system requirements and issues depending on business needs and provide alternative approaches for change or upgrade. Work closely with other developers and teams to update and deploy large and complex code bases. Document detailed technical changes or upgrades for subsystems and identify integration points. Perform unit testing and complex debugging. Estimate work efforts for AIR backlog. Determine technical feasibility and feedback on new product objectives. Partner with all stakeholders to identify potential slippage or inter-team dependencies. Position is 100% remote.\\n\\nRequirements: Master’s degree in Computer Science, or a directly related field, plus 2 years of experience working in a software developer occupation or related occupation. The 2 years of experience must include 2 years of experience with each of the following: (1) working in an agile or iterative development environment; (2) NumPy, Pandas, Scikit, SciPy, TensorFlow, NLTK, or Matplotlib; (3) RESTful APIs with backend services; (4) scripting languages, including Python, SQL, HTML, JavaScript, or Shell; (5) data modeling, data architecture design, and database technology, including SQL database; (6) Software Development Lifecycle or iterative development environment; (7) building CI/CD pipelines and test driven development; (8) designing, prototyping, and demonstrating new features and components of front-end or back-end to ensure compliance with requirements for clinical environments and medical labs; (9) source control, build tools, and GIT, including GitHub or Bitbucket; (10) designing, developing, and maintaining mission-critical and sophisticated systems to deliver high-availability and performance for large applications.\\n\\nThis notice is subject to Availity LLC's employee referral program.\\n\\nInterested candidates should apply online at https://availity.wd1.myworkdayjobs.com/Availity_Careers_US. Contact Carla King at Carla.king@availity.com if you have questions or need information about this application.\\n\\nAvaility is an equal opportunity employer and makes decisions in employment matters without regard to race, religious creed, color, age, sex, sexual orientation, gender identity, gender expression, genetic information, national origin, religion, marital status, medical condition, disability, military service, pregnancy, childbirth and related medical conditions, or any other classification protected by federal, state, and local laws and ordinances.\\n\\nAvaility is a drug-free workplace. Candidates are required to pass a drug test before beginning employment.\\n\\nNOTICE: Federal law requires all employers to verify the identity and employment eligibility of all persons hired to work in the United States. When required by state law or federal regulation, Availity uses I-9, Employment Eligibility Verification in conjunction with E-Verify to determine employment eligibility. Learn more about E-Verify at http://www.dhs.gov/e-verify.\\n\\nClick the links below to view Federal Employment Notices.\\n\\nFamily & Medical Leave Act Equal Employment Law Poster Pay Transparency Employee Polygraph Protection Act IER Right to Work Poster Important Notice about Employee Rights to Organize and Bargain Collectively with Their Employers\\n_______________________________________________\\n\\n\""
      ]
     },
     "execution_count": 14,
     "metadata": {},
     "output_type": "execute_result"
    }
   ],
   "source": [
    "# Call the function as a tool\n",
    "google_job_search.run(\"Software Engineer\")"
   ]
  },
  {
   "cell_type": "markdown",
   "metadata": {},
   "source": [
    "## [Wikipedia Search](https://python.langchain.com/docs/integrations/tools/wikipedia)"
   ]
  },
  {
   "cell_type": "code",
   "execution_count": 15,
   "metadata": {},
   "outputs": [
    {
     "name": "stdout",
     "output_type": "stream",
     "text": [
      "Note: you may need to restart the kernel to use updated packages.\n"
     ]
    }
   ],
   "source": [
    "%pip install -Uq wikipedia"
   ]
  },
  {
   "cell_type": "code",
   "execution_count": 16,
   "metadata": {},
   "outputs": [],
   "source": [
    "from langchain.tools import WikipediaQueryRun\n",
    "from langchain.utilities import WikipediaAPIWrapper"
   ]
  },
  {
   "cell_type": "code",
   "execution_count": 17,
   "metadata": {},
   "outputs": [],
   "source": [
    "@tool(\"wiki_search\")\n",
    "def wiki_search(query: str) -> str:\n",
    "    \"\"\"\n",
    "    This function uses the WikipediaAPIWrapper to search for information on Wikipedia.\n",
    "\n",
    "    Parameters:\n",
    "    query (str): The search term to use in the query.\n",
    "\n",
    "    Returns:\n",
    "    str: The search results from Wikipedia.\n",
    "    \"\"\"\n",
    "    # create an instance of the WikipediaAPIWrapper\n",
    "    wikisearch = WikipediaQueryRun(api_wrapper=WikipediaAPIWrapper())\n",
    "\n",
    "    # Perform the search query\n",
    "    results = wikisearch.run(query)\n",
    "\n",
    "    # return the results\n",
    "    return results"
   ]
  },
  {
   "cell_type": "code",
   "execution_count": 18,
   "metadata": {},
   "outputs": [
    {
     "name": "stdout",
     "output_type": "stream",
     "text": [
      "Page: The Body Keeps the Score\n",
      "Summary: The Body Keeps the Score: Brain, Mind, and Body in the Healing of Trauma is a 2014 book by Bessel van der Kolk about the effects of psychological trauma, also known as traumatic stress. The book describes van der Kolk's research and experiences on how individuals are affected by traumatic stress, and its effects on the mind and body. It is based on his 1994 Harvard Review of Psychiatry article \"The body keeps the score: memory and the evolving psychobiology of posttraumatic stress\".The Body Keeps the Score has been published in 36 languages. As of July 2021 the book had spent more than 141 weeks on the New York Times Bestseller List for nonfiction, with 27 of those weeks spent in the No. 1 position.\n",
      "\n",
      "Page: Bessel van der Kolk\n",
      "Summary: Bessel van der Kolk (born 1943) is a Dutch psychiatrist, author, researcher and educator. Since the 1970s his research has been in the area of post-traumatic stress. He is the author of The New York Times best seller, The Body Keeps the Score. \n",
      "Van der Kolk formerly served as president of the International Society for Traumatic Stress Studies and is a former co-director of the National Child Traumatic Stress Network. He is a professor of psychiatry at Boston University School of Medicine and president of the Trauma Research Foundation in Brookline, Massachusetts, which he established after being fired from the Brookline Trauma Center for \"creating a hostile work environment,\" in which he allegedly made employees feel \"denigrated and uncomfortable.\"Van der Kolk has published over 150 peer-reviewed scientific articles and four books.\n",
      "\n",
      "Page: Body memory\n",
      "Summary: Body memory (BM) is a hypothesis that the body itself is capable of storing memories, as opposed to only the brain. While experiments have demonstrated the possibility of cellular memory there are currently no known means by which tissues other than the brain would be capable of storing memories.Modern usage of BM tends to frame it exclusively in the context of traumatic memory and ways in which the body responds to recall of a memory. In this regard, it has become relevant in treatment for PTSD.\n"
     ]
    }
   ],
   "source": [
    "# Test create_search_tool function\n",
    "print(wiki_search(\"The Body Keeps the Score\"))"
   ]
  },
  {
   "cell_type": "code",
   "execution_count": 19,
   "metadata": {},
   "outputs": [
    {
     "data": {
      "text/plain": [
       "'Page: The Body Keeps the Score\\nSummary: The Body Keeps the Score: Brain, Mind, and Body in the Healing of Trauma is a 2014 book by Bessel van der Kolk about the effects of psychological trauma, also known as traumatic stress. The book describes van der Kolk\\'s research and experiences on how individuals are affected by traumatic stress, and its effects on the mind and body. It is based on his 1994 Harvard Review of Psychiatry article \"The body keeps the score: memory and the evolving psychobiology of posttraumatic stress\".The Body Keeps the Score has been published in 36 languages. As of July 2021 the book had spent more than 141 weeks on the New York Times Bestseller List for nonfiction, with 27 of those weeks spent in the No. 1 position.\\n\\nPage: Bessel van der Kolk\\nSummary: Bessel van der Kolk (born 1943) is a Dutch psychiatrist, author, researcher and educator. Since the 1970s his research has been in the area of post-traumatic stress. He is the author of The New York Times best seller, The Body Keeps the Score. \\nVan der Kolk formerly served as president of the International Society for Traumatic Stress Studies and is a former co-director of the National Child Traumatic Stress Network. He is a professor of psychiatry at Boston University School of Medicine and president of the Trauma Research Foundation in Brookline, Massachusetts, which he established after being fired from the Brookline Trauma Center for \"creating a hostile work environment,\" in which he allegedly made employees feel \"denigrated and uncomfortable.\"Van der Kolk has published over 150 peer-reviewed scientific articles and four books.\\n\\nPage: Body memory\\nSummary: Body memory (BM) is a hypothesis that the body itself is capable of storing memories, as opposed to only the brain. While experiments have demonstrated the possibility of cellular memory there are currently no known means by which tissues other than the brain would be capable of storing memories.Modern usage of BM tends to frame it exclusively in the context of traumatic memory and ways in which the body responds to recall of a memory. In this regard, it has become relevant in treatment for PTSD.'"
      ]
     },
     "execution_count": 19,
     "metadata": {},
     "output_type": "execute_result"
    }
   ],
   "source": [
    "# Call the function as a tool\n",
    "wiki_search.run(\"The Body Keeps the Score\")"
   ]
  },
  {
   "cell_type": "markdown",
   "metadata": {},
   "source": [
    "# Create an Agent using GPT-3.5-Turbo\n",
    "\n",
    "### Set Environment Variables\n",
    "\n",
    "Let's turn on LangSmith tracing for observability. We'll also set our OpenAI API key.\n",
    "\n",
    "#### LangSmith\n",
    "Sign up for LangSmith [here](https://smith.langchain.com/). \n",
    "\n",
    "It will be instrumental in understanding your LLM applications as projects become increasingly more complex because it allows the tracing of action steps made during runtime. This is especially true for us since we're building custom tools, creating a ReAct agent, and tying everything together inside a runnable chain."
   ]
  },
  {
   "cell_type": "code",
   "execution_count": 20,
   "metadata": {},
   "outputs": [],
   "source": [
    "os.environ[\"LANGCHAIN_TRACING_V2\"] = \"true\"\n",
    "os.environ[\"LANGCHAIN_PROJECT\"] = \"build-custom-tools\"\n",
    "os.environ[\"LANGCHAIN_API_KEY\"] = \"\"\n",
    "os.environ[\"OPENAI_API_KEY\"] = \"\""
   ]
  },
  {
   "cell_type": "markdown",
   "metadata": {},
   "source": [
    "### Why use an Instruct model instead of the latest \"0125\" model which has function calling, 4x context window, etc..?\n",
    "\n",
    "We may opt to use the \"Instruct\" model because its class is considered an `LLM` by LangChain. This means that [`langchain_openai.llms.base.OpenAI`](https://api.python.langchain.com/en/latest/llms/langchain_openai.llms.base.OpenAI.html#langchain_openai.llms.base.OpenAI \"LangChain API Documentation\") will output strings rather than a list of messages, which is what [`langchain_openai.chat_models.base.ChatOpenAI`](https://api.python.langchain.com/en/latest/chat_models/langchain_openai.chat_models.base.ChatOpenAI.html \"LangChain API Documentation\") does.\n",
    "\n",
    "In our case, if we use the \"Instruct\" model, we'd be severly limiting our context window to 4,096 tokens. But we'd be gaining saving ourselves the hassle of dealing with conversation history. \n",
    "\n",
    "---\n",
    "\n",
    "You may wish to see the [GPT-3.5-Turbo](https://platform.openai.com/docs/models/gpt-3-5-turbo \"OpenAI Documentation\") section for more detailed information."
   ]
  },
  {
   "cell_type": "code",
   "execution_count": 33,
   "metadata": {},
   "outputs": [],
   "source": [
    "# from langchain_openai import OpenAI\n",
    "\n",
    "# chat_model = OpenAI(\n",
    "#     model_name=\"gpt-3.5-turbo-instruct\",\n",
    "#     temperature=0,\n",
    "#     openai_api_key=os.environ[\"OPENAI_API_KEY\"]\n",
    "# )\n",
    "\n",
    "from langchain_openai import ChatOpenAI\n",
    "\n",
    "chat_model = ChatOpenAI(\n",
    "    model_name=\"gpt-3.5-turbo-0125\",\n",
    "    temperature=0.3, # Use 0.0 to adhere to retrieved context\n",
    "    openai_api_key=os.environ[\"OPENAI_API_KEY\"],\n",
    ")"
   ]
  },
  {
   "cell_type": "markdown",
   "metadata": {},
   "source": [
    "## Create a Prompt from a List of Messages"
   ]
  },
  {
   "cell_type": "code",
   "execution_count": 34,
   "metadata": {},
   "outputs": [],
   "source": [
    "from langchain.schema import (\n",
    "    HumanMessage,\n",
    "    SystemMessage,\n",
    ")\n",
    "\n",
    "messages = [\n",
    "    SystemMessage(content=\"I can choose to use different tools to accomplish a variety of tasks.\"),\n",
    "    HumanMessage(content=\"I have a question I need help answering:\"),\n",
    "]"
   ]
  },
  {
   "cell_type": "code",
   "execution_count": 35,
   "metadata": {},
   "outputs": [
    {
     "data": {
      "text/plain": [
       "[SystemMessage(content='I can choose to use different tools to accomplish a variety of tasks.'),\n",
       " HumanMessage(content='I have a question I need help answering:')]"
      ]
     },
     "execution_count": 35,
     "metadata": {},
     "output_type": "execute_result"
    }
   ],
   "source": [
    "# Let's see what the chat messages look like before they are formatted for the LLM call.\n",
    "messages"
   ]
  },
  {
   "cell_type": "code",
   "execution_count": 36,
   "metadata": {},
   "outputs": [
    {
     "name": "stdout",
     "output_type": "stream",
     "text": [
      "content='Of course! What is your question?' response_metadata={'token_usage': {'completion_tokens': 8, 'prompt_tokens': 34, 'total_tokens': 42}, 'model_name': 'gpt-3.5-turbo-0125', 'system_fingerprint': 'fp_4f0b692a78', 'finish_reason': 'stop', 'logprobs': None}\n"
     ]
    }
   ],
   "source": [
    "# Generate a completion of our prompt\n",
    "res = chat_model.invoke(messages)\n",
    "print(res)"
   ]
  },
  {
   "cell_type": "markdown",
   "metadata": {},
   "source": [
    "## Create an Agent\n",
    "\n",
    "**What's an agent?**: An Agent in the context of LLMs and LangChain is a software entity that utilizes a Language Model (LLM) to perform tasks and interact with users. It acts as an intermediary between the user and the LLM, determining which actions to take and in what order. Agents can call external tools, utilize memory, and employ various strategies to achieve their goals, making them powerful problem-solving entities in the realm of natural language processing.\n"
   ]
  },
  {
   "cell_type": "code",
   "execution_count": 37,
   "metadata": {},
   "outputs": [],
   "source": [
    "from langchain import hub\n",
    "from langchain.agents import AgentExecutor, load_tools\n",
    "from langchain.agents.format_scratchpad import format_log_to_str\n",
    "from langchain.agents.output_parsers import (\n",
    "    ReActJsonSingleInputOutputParser,\n",
    ")\n",
    "from langchain.tools.render import render_text_description\n",
    "from langchain.utilities import SerpAPIWrapper"
   ]
  },
  {
   "cell_type": "code",
   "execution_count": 38,
   "metadata": {},
   "outputs": [
    {
     "data": {
      "text/plain": [
       "[Tool(name='Calculator', description='Useful for when you need to answer questions about math.', func=<bound method Chain.run of LLMMathChain(llm_chain=LLMChain(prompt=PromptTemplate(input_variables=['question'], template='Translate a math problem into a expression that can be executed using Python\\'s numexpr library. Use the output of running this code to answer the question.\\n\\nQuestion: ${{Question with math problem.}}\\n```text\\n${{single line mathematical expression that solves the problem}}\\n```\\n...numexpr.evaluate(text)...\\n```output\\n${{Output of running the code}}\\n```\\nAnswer: ${{Answer}}\\n\\nBegin.\\n\\nQuestion: What is 37593 * 67?\\n```text\\n37593 * 67\\n```\\n...numexpr.evaluate(\"37593 * 67\")...\\n```output\\n2518731\\n```\\nAnswer: 2518731\\n\\nQuestion: 37593^(1/5)\\n```text\\n37593**(1/5)\\n```\\n...numexpr.evaluate(\"37593**(1/5)\")...\\n```output\\n8.222831614237718\\n```\\nAnswer: 8.222831614237718\\n\\nQuestion: {question}\\n'), llm=ChatOpenAI(client=<openai.resources.chat.completions.Completions object at 0x000001FAA0F35780>, async_client=<openai.resources.chat.completions.AsyncCompletions object at 0x000001FAA0F35450>, model_name='gpt-3.5-turbo-0125', temperature=0.3, openai_api_key=SecretStr('**********'), openai_proxy='')))>, coroutine=<bound method Chain.arun of LLMMathChain(llm_chain=LLMChain(prompt=PromptTemplate(input_variables=['question'], template='Translate a math problem into a expression that can be executed using Python\\'s numexpr library. Use the output of running this code to answer the question.\\n\\nQuestion: ${{Question with math problem.}}\\n```text\\n${{single line mathematical expression that solves the problem}}\\n```\\n...numexpr.evaluate(text)...\\n```output\\n${{Output of running the code}}\\n```\\nAnswer: ${{Answer}}\\n\\nBegin.\\n\\nQuestion: What is 37593 * 67?\\n```text\\n37593 * 67\\n```\\n...numexpr.evaluate(\"37593 * 67\")...\\n```output\\n2518731\\n```\\nAnswer: 2518731\\n\\nQuestion: 37593^(1/5)\\n```text\\n37593**(1/5)\\n```\\n...numexpr.evaluate(\"37593**(1/5)\")...\\n```output\\n8.222831614237718\\n```\\nAnswer: 8.222831614237718\\n\\nQuestion: {question}\\n'), llm=ChatOpenAI(client=<openai.resources.chat.completions.Completions object at 0x000001FAA0F35780>, async_client=<openai.resources.chat.completions.AsyncCompletions object at 0x000001FAA0F35450>, model_name='gpt-3.5-turbo-0125', temperature=0.3, openai_api_key=SecretStr('**********'), openai_proxy='')))>),\n",
       " StructuredTool(name='arxiv_search', description='arxiv_search(query: str) -> str - This function uses the ArxivAPIWrapper to search for scientific papers on Arxiv.\\n\\n    Parameters:\\n    query (str): The search term to use in the query.\\n\\n    Returns:\\n    str: The search results from Arxiv.', args_schema=<class 'pydantic.v1.main.arxiv_searchSchema'>, func=<function arxiv_search at 0x000001FAFDF66320>),\n",
       " StructuredTool(name='google_job_search', description='google_job_search(job_title: str) -> str - This function uses the GoogleJobsAPIWrapper to search for jobs on Google Jobs.\\n\\n    Parameters:\\n    job_title (str): The search term(s) to use in the query.\\n\\n    Returns:\\n    str: The search results from Google Jobs.', args_schema=<class 'pydantic.v1.main.google_job_searchSchema'>, func=<function google_job_search at 0x000001FAF9C071C0>),\n",
       " StructuredTool(name='wiki_search', description='wiki_search(query: str) -> str - This function uses the WikipediaAPIWrapper to search for information on Wikipedia.\\n\\n    Parameters:\\n    query (str): The search term to use in the query.\\n\\n    Returns:\\n    str: The search results from Wikipedia.', args_schema=<class 'pydantic.v1.main.wiki_searchSchema'>, func=<function wiki_search at 0x000001FA9E32B7F0>)]"
      ]
     },
     "execution_count": 38,
     "metadata": {},
     "output_type": "execute_result"
    }
   ],
   "source": [
    "# define the tools\n",
    "# `load_tools` doesn't support custom tools, so we'll initialize it as an empty list\n",
    "tools = load_tools([\"llm-math\"], llm=chat_model)\n",
    "\n",
    "# and now we'll append our custom tools\n",
    "tools = tools + [arxiv_search, google_job_search, wiki_search]\n",
    "\n",
    "# Inspect the tools\n",
    "tools"
   ]
  },
  {
   "cell_type": "code",
   "execution_count": 39,
   "metadata": {},
   "outputs": [],
   "source": [
    "# setup ReAct style prompt\n",
    "prompt = hub.pull(\"hwchase17/react-json\")\n",
    "prompt = prompt.partial(\n",
    "    tools=render_text_description(tools),\n",
    "    tool_names=\", \".join([t.name for t in tools]),\n",
    ")\n",
    "\n",
    "# define the agent\n",
    "chat_model_with_stop = chat_model.bind(stop=[\"\\nObservation\"])\n",
    "agent = (\n",
    "    {\n",
    "        \"input\": lambda x: x[\"input\"],\n",
    "        \"agent_scratchpad\": lambda x: format_log_to_str(x[\"intermediate_steps\"]),\n",
    "    }\n",
    "    | prompt\n",
    "    | chat_model_with_stop\n",
    "    | ReActJsonSingleInputOutputParser()\n",
    ")\n",
    "\n",
    "# instantiate AgentExecutor\n",
    "agent_executor = AgentExecutor(agent=agent, tools=tools, verbose=True, handle_parsing_errors=True)"
   ]
  },
  {
   "cell_type": "code",
   "execution_count": 40,
   "metadata": {},
   "outputs": [
    {
     "name": "stdout",
     "output_type": "stream",
     "text": [
      "\n",
      "\n",
      "\u001b[1m> Entering new AgentExecutor chain...\u001b[0m\n",
      "\u001b[32;1m\u001b[1;3mQuestion: What is OHSU? How old is it in years? At what address can I find it?\n",
      "\n",
      "Thought: To answer these questions, we can search for information about OHSU on Wikipedia.\n",
      "\n",
      "Action:\n",
      "```\n",
      "{\n",
      "  \"action\": \"wiki_search\",\n",
      "  \"action_input\": \"OHSU\"\n",
      "}\n",
      "``` \n",
      "\u001b[0m\u001b[36;1m\u001b[1;3mPage: Oregon Health & Science University\n",
      "Summary: Oregon Health & Science University (OHSU) is a\n",
      "public research university focusing primarily on health sciences with a main campus, including two hospitals, in Portland, Oregon. The institution was founded in 1887 as the University of Oregon Medical Department and later became the University of Oregon Medical School. In 1974, the campus became an independent, self-governed institution called the University of Oregon Health Sciences Center, combining state dentistry, medicine, nursing, and public health programs into a single center. It was renamed Oregon Health Sciences University in 1981 and took its current name in 2001, as part of a merger with the Oregon Graduate Institute (OGI), in Hillsboro. The university has several partnership programs including a joint PharmD Pharmacy program with Oregon State University in Corvallis.\n",
      "The university's programs are highly ranked nationally, with the School of Medicine ranking in the top 5 for primary care and family medicine residency ranking #1 by U.S. News & World Report, as well as the ophthalmology residency under Casey Eye Institute ranking in the top 10 by Ophthalmology Times in 2020. It is designated as a \"Special Focus - Research Institution\" according to the Carnegie Classification.\n",
      "\n",
      "\n",
      "\n",
      "Page: Portland Aerial Tram\n",
      "Summary: The Portland Aerial Tram or OHSU Tram is an aerial tramway in Portland, Oregon, that connects the city's South Waterfront district and the main Oregon Health & Science University (OHSU) campus, located in the Marquam Hill neighborhood. It is one of only two commuter aerial tramways in the United States, the other being New York City's Roosevelt Island Tramway.  The tram travels a horizontal distance of 3,300 feet (1,000 m) and a vertical distance of 500 feet (152 m) in a ride that lasts three minutes.The tram was jointly funded by OHSU, the City of Portland, and by South Waterfront property owners, with most of the funding coming from OHSU. It is owned by the city and operated by OHSU. While most passengers are affiliated with OHSU, it is open to the public and operated as part of Portland's public transportation network that includes the Portland Streetcar, MAX Light Rail, and TriMet buses. After opening in December 2006, the tram carried its one millionth passenger on October 17, 2007 and its ten millionth rider on January 8, 2014. A round-trip ticket costs $8 but is free for OHSU patients and certain visitors; OHSU employees and students ride free by showing their ID badges.The tram cost $57 million to build—a nearly fourfold increase over initial cost estimates, which was one of several sources of controversy concerning the project.\n",
      "\n",
      "Page: Oregon Health & Science University Hospital\n",
      "Summary: Oregon Health & Science University Hospital (OHSU Hospital) is a 576-bed teaching hospital, biomedical research facility, and Level I trauma center located on the campus of Oregon Health & Science University (OHSU) in Portland in the U.S. state of Oregon. OHSU hospital has consistently been ranked by the U.S. News & World Report as the #1 hospital in the Portland metro regional area and is frequently ranked nationally in multiple medical specialties.\n",
      "Located on OHSU's Marquam Hill campus south of Downtown Portland, the hospital is adjacent to Doernbecher Children's Hospital and a Shriners Hospital for Children. OHSU Hospital is one of only two Level I trauma centers in Oregon.\n",
      "\n",
      "\u001b[0m\u001b[32;1m\u001b[1;3mIt seems that OHSU stands for Oregon Health & Science University. It was founded in 1887, making it 134 years old. The main campus of OHSU, including two hospitals, is located in Portland, Oregon.\n",
      "\n",
      "To find the address of OHSU, we can search for more specific information about its location on Wikipedia.\n",
      "\n",
      "Action:\n",
      "```\n",
      "{\n",
      "  \"action\": \"wiki_search\",\n",
      "  \"action_input\": \"Oregon Health & Science University address\"\n",
      "}\n",
      "``` \n",
      "\u001b[0m\u001b[36;1m\u001b[1;3mPage: Western University of Health Sciences\n",
      "Summary: Western University of Health Sciences (WesternU) is a private medical university in Pomona, California. With an enrollment of 3,724 students (2022–23), WesternU offers more than twenty academic programs in multiple colleges. It also operates an additional campus in Lebanon, Oregon.\n",
      "Under the banner of WesternU Health, the university operates a variety of patient care facilities in California and Oregon. The Pomona and Lebanon (Oregon) campuses both include a medical center, dental center, eye care institute, pharmacy, and travel health center. WesternU-Pomona also is home to the Pet Health Center, which provides veterinary services. Dental services are offered at the Rancho Mirage campus, while a Los Angeles campus provides optometry services.\n",
      "Several nonprofit organizations are based at the WesternU Pomona campus, including the Harris Family Center for Disability and Health Policy. The Center for Oral Health, moved from the Bay area to the WesternU Pomona campus in 2012. In 2015, the Southern California Medical Museum moved to the Pomona campus.\n",
      "Founded in 1977, the first program at WesternU was its medical school, the College of Osteopathic Medicine of the Pacific. In 2003, the College of Veterinary Medicine opened, and in 2009 the colleges of dental medicine, optometry, and podiatric medicine opened. In 2011, the university opened an additional campus in Lebanon, Oregon, the College of Osteopathic Medicine of the Pacific - Northwest (COMP-Northwest). In 2015, the university's founding president, Philip Pumerantz, retired.\n",
      "All of the programs at WesternU have professional accreditation and the university is accredited by the Western Association of Schools and Colleges.\n",
      "\n",
      "Page: University of Oregon\n",
      "Summary: The University of Oregon (UO, U of O or Oregon) is a public research university in Eugene, Oregon. Founded in 1876, the university also has two Portland locations, and manages a marine station, called the Oregon Institute of Marine Biology, in Charleston; and an observatory, called Pine Mountain Observatory, in Central Oregon.\n",
      "The University of Oregon is organized into nine colleges and schools and offers 316 undergraduate and graduate degree programs. Most academic programs follow the 10 week Quarter System. The university is classified among \"R1: Doctoral Universities – Very high research activity\" and is a member of the Association of American Universities. Since July 2014, UO has been governed by its own board of trustees.\n",
      "UO's 295-acre campus is situated along the Willamette River.\n",
      "UO student athletes compete as the Ducks and are part of the Pac-12 Conference in the National Collegiate Athletic Association (NCAA). With eighteen varsity teams, the Oregon Ducks are best known for their football team and track and field program. These two teams are even incorporated into the design of the school's \"O\" logo. In the summer of 2022, UO hosted the 2022 World Athletics Championships. It was the first time the event was held in the United States. UO's colors are green and yellow.The university has a long and complex relationship with Nike, Inc., and the firm's co-founder Phil Knight. As a consequence of state higher-education disinvestment starting in the 1990s, UO has embraced a \"University of Nike\" image. Fueled by large investments in athletic infrastructure, this trend has accelerated in recent years. Knight, an alumnus, has advocated for both athletic prominence and increased privatisation of the university, and has donated over $1 billion to UO since the late-1980s, much of it going towards athletics. The school's \"O\" logo was designed by Nike in 1998 and sports facility projects on campus typically involve both Knight and Nike.\n",
      "\n",
      "Page: Southern Oregon University\n",
      "Summary: Southern Oregon University (SOU) is a public university in Ashland, Oregon. It was founded in 1872 as the Ashland Academy, has been in its current location since 1926, and was known by nine other names \u001b[0m\u001b[32;1m\u001b[1;3mTo find the address of Oregon Health & Science University (OHSU), we need to refine the search query to specifically look for the address.\n",
      "\n",
      "Action:\n",
      "```\n",
      "{\n",
      "  \"action\": \"wiki_search\",\n",
      "  \"action_input\": \"Oregon Health & Science University campus address\"\n",
      "}\n",
      "```\n",
      "\u001b[0m\u001b[36;1m\u001b[1;3mPage: Western University of Health Sciences\n",
      "Summary: Western University of Health Sciences (WesternU) is a private medical university in Pomona, California. With an enrollment of 3,724 students (2022–23), WesternU offers more than twenty academic programs in multiple colleges. It also operates an additional campus in Lebanon, Oregon.\n",
      "Under the banner of WesternU Health, the university operates a variety of patient care facilities in California and Oregon. The Pomona and Lebanon (Oregon) campuses both include a medical center, dental center, eye care institute, pharmacy, and travel health center. WesternU-Pomona also is home to the Pet Health Center, which provides veterinary services. Dental services are offered at the Rancho Mirage campus, while a Los Angeles campus provides optometry services.\n",
      "Several nonprofit organizations are based at the WesternU Pomona campus, including the Harris Family Center for Disability and Health Policy. The Center for Oral Health, moved from the Bay area to the WesternU Pomona campus in 2012. In 2015, the Southern California Medical Museum moved to the Pomona campus.\n",
      "Founded in 1977, the first program at WesternU was its medical school, the College of Osteopathic Medicine of the Pacific. In 2003, the College of Veterinary Medicine opened, and in 2009 the colleges of dental medicine, optometry, and podiatric medicine opened. In 2011, the university opened an additional campus in Lebanon, Oregon, the College of Osteopathic Medicine of the Pacific - Northwest (COMP-Northwest). In 2015, the university's founding president, Philip Pumerantz, retired.\n",
      "All of the programs at WesternU have professional accreditation and the university is accredited by the Western Association of Schools and Colleges.\n",
      "\n",
      "Page: Oregon State University\n",
      "Summary: Oregon State University (OSU) is a public land-grant research university based in Corvallis, Oregon. OSU offers more than 200 undergraduate-degree programs along with a variety of graduate and doctoral degrees through each college. It has the seventh-largest engineering college in the nation for 2023. Undergraduate enrollment for all colleges combined averages over 32,000 while an additional 5,000 students are engaged in post-graduate coursework through the university. In 2023, over 37,000 students were enrolled at OSU – making it the largest university in the state. Out-of-state students typically make up over one-quarter of the student body. Since its founding, over 272,000 students have graduated from OSU. The university is classified by the Carnegie Classification of Institutions of Higher Education as an \"...R1: Doctoral University,\" with \"...very high research activity.\"Chartered as a land-grant university initially, OSU became one of the four inaugural members of the Sea Grant in 1971. Memberships in the Space Grant and Sun Grant research consortias were awarded in 1991 and 2003, making it one of only three schools in the nation to obtain land, sun, sea and space grant memberships. OSU received a record high $449.9 million in research funding for the 2022 fiscal year and has ranked as the state's top earner in research funding for over 50 years. OSU is also one of the top five doctoral university destinations in the nation for Fulbright Scholars (2022–2023). US News & World Report ranks OSU's online Ecampus fourth nationally (2024). The Ecampus has held a top-10-ranking since 2015.\n",
      "\n",
      "Page: University of Oregon\n",
      "Summary: The University of Oregon (UO, U of O or Oregon) is a public research university in Eugene, Oregon. Founded in 1876, the university also has two Portland locations, and manages a marine station, called the Oregon Institute of Marine Biology, in Charleston; and an observatory, called Pine Mountain Observatory, in Central Oregon.\n",
      "The University of Oregon is organized into nine colleges and schools and offers 316 undergraduate and graduate degree programs. Most academic programs follow the 10 week Quarter System. The university is classified among \"R1:\u001b[0m\u001b[32;1m\u001b[1;3mTo find the address of Oregon Health & Science University (OHSU), we need to refine the search query to specifically look for the address.\n",
      "\n",
      "Action:\n",
      "```\n",
      "{\n",
      "  \"action\": \"wiki_search\",\n",
      "  \"action_input\": \"Oregon Health & Science University address\"\n",
      "}\n",
      "``` \n",
      "\u001b[0m\u001b[36;1m\u001b[1;3mPage: Western University of Health Sciences\n",
      "Summary: Western University of Health Sciences (WesternU) is a private medical university in Pomona, California. With an enrollment of 3,724 students (2022–23), WesternU offers more than twenty academic programs in multiple colleges. It also operates an additional campus in Lebanon, Oregon.\n",
      "Under the banner of WesternU Health, the university operates a variety of patient care facilities in California and Oregon. The Pomona and Lebanon (Oregon) campuses both include a medical center, dental center, eye care institute, pharmacy, and travel health center. WesternU-Pomona also is home to the Pet Health Center, which provides veterinary services. Dental services are offered at the Rancho Mirage campus, while a Los Angeles campus provides optometry services.\n",
      "Several nonprofit organizations are based at the WesternU Pomona campus, including the Harris Family Center for Disability and Health Policy. The Center for Oral Health, moved from the Bay area to the WesternU Pomona campus in 2012. In 2015, the Southern California Medical Museum moved to the Pomona campus.\n",
      "Founded in 1977, the first program at WesternU was its medical school, the College of Osteopathic Medicine of the Pacific. In 2003, the College of Veterinary Medicine opened, and in 2009 the colleges of dental medicine, optometry, and podiatric medicine opened. In 2011, the university opened an additional campus in Lebanon, Oregon, the College of Osteopathic Medicine of the Pacific - Northwest (COMP-Northwest). In 2015, the university's founding president, Philip Pumerantz, retired.\n",
      "All of the programs at WesternU have professional accreditation and the university is accredited by the Western Association of Schools and Colleges.\n",
      "\n",
      "Page: University of Oregon\n",
      "Summary: The University of Oregon (UO, U of O or Oregon) is a public research university in Eugene, Oregon. Founded in 1876, the university also has two Portland locations, and manages a marine station, called the Oregon Institute of Marine Biology, in Charleston; and an observatory, called Pine Mountain Observatory, in Central Oregon.\n",
      "The University of Oregon is organized into nine colleges and schools and offers 316 undergraduate and graduate degree programs. Most academic programs follow the 10 week Quarter System. The university is classified among \"R1: Doctoral Universities – Very high research activity\" and is a member of the Association of American Universities. Since July 2014, UO has been governed by its own board of trustees.\n",
      "UO's 295-acre campus is situated along the Willamette River.\n",
      "UO student athletes compete as the Ducks and are part of the Pac-12 Conference in the National Collegiate Athletic Association (NCAA). With eighteen varsity teams, the Oregon Ducks are best known for their football team and track and field program. These two teams are even incorporated into the design of the school's \"O\" logo. In the summer of 2022, UO hosted the 2022 World Athletics Championships. It was the first time the event was held in the United States. UO's colors are green and yellow.The university has a long and complex relationship with Nike, Inc., and the firm's co-founder Phil Knight. As a consequence of state higher-education disinvestment starting in the 1990s, UO has embraced a \"University of Nike\" image. Fueled by large investments in athletic infrastructure, this trend has accelerated in recent years. Knight, an alumnus, has advocated for both athletic prominence and increased privatisation of the university, and has donated over $1 billion to UO since the late-1980s, much of it going towards athletics. The school's \"O\" logo was designed by Nike in 1998 and sports facility projects on campus typically involve both Knight and Nike.\n",
      "\n",
      "Page: Southern Oregon University\n",
      "Summary: Southern Oregon University (SOU) is a public university in Ashland, Oregon. It was founded in 1872 as the Ashland Academy, has been in its current location since 1926, and was known by nine other names \u001b[0m\u001b[32;1m\u001b[1;3mTo find the address of Oregon Health & Science University (OHSU), we need to refine the search query to specifically look for the address.\n",
      "\n",
      "Action:\n",
      "```\n",
      "{\n",
      "  \"action\": \"wiki_search\",\n",
      "  \"action_input\": \"Oregon Health & Science University main campus address\"\n",
      "}\n",
      "``` \n",
      "\u001b[0m\u001b[36;1m\u001b[1;3mPage: Western University of Health Sciences\n",
      "Summary: Western University of Health Sciences (WesternU) is a private medical university in Pomona, California. With an enrollment of 3,724 students (2022–23), WesternU offers more than twenty academic programs in multiple colleges. It also operates an additional campus in Lebanon, Oregon.\n",
      "Under the banner of WesternU Health, the university operates a variety of patient care facilities in California and Oregon. The Pomona and Lebanon (Oregon) campuses both include a medical center, dental center, eye care institute, pharmacy, and travel health center. WesternU-Pomona also is home to the Pet Health Center, which provides veterinary services. Dental services are offered at the Rancho Mirage campus, while a Los Angeles campus provides optometry services.\n",
      "Several nonprofit organizations are based at the WesternU Pomona campus, including the Harris Family Center for Disability and Health Policy. The Center for Oral Health, moved from the Bay area to the WesternU Pomona campus in 2012. In 2015, the Southern California Medical Museum moved to the Pomona campus.\n",
      "Founded in 1977, the first program at WesternU was its medical school, the College of Osteopathic Medicine of the Pacific. In 2003, the College of Veterinary Medicine opened, and in 2009 the colleges of dental medicine, optometry, and podiatric medicine opened. In 2011, the university opened an additional campus in Lebanon, Oregon, the College of Osteopathic Medicine of the Pacific - Northwest (COMP-Northwest). In 2015, the university's founding president, Philip Pumerantz, retired.\n",
      "All of the programs at WesternU have professional accreditation and the university is accredited by the Western Association of Schools and Colleges.\n",
      "\n",
      "Page: Oregon State University\n",
      "Summary: Oregon State University (OSU) is a public land-grant research university based in Corvallis, Oregon. OSU offers more than 200 undergraduate-degree programs along with a variety of graduate and doctoral degrees through each college. It has the seventh-largest engineering college in the nation for 2023. Undergraduate enrollment for all colleges combined averages over 32,000 while an additional 5,000 students are engaged in post-graduate coursework through the university. In 2023, over 37,000 students were enrolled at OSU – making it the largest university in the state. Out-of-state students typically make up over one-quarter of the student body. Since its founding, over 272,000 students have graduated from OSU. The university is classified by the Carnegie Classification of Institutions of Higher Education as an \"...R1: Doctoral University,\" with \"...very high research activity.\"Chartered as a land-grant university initially, OSU became one of the four inaugural members of the Sea Grant in 1971. Memberships in the Space Grant and Sun Grant research consortias were awarded in 1991 and 2003, making it one of only three schools in the nation to obtain land, sun, sea and space grant memberships. OSU received a record high $449.9 million in research funding for the 2022 fiscal year and has ranked as the state's top earner in research funding for over 50 years. OSU is also one of the top five doctoral university destinations in the nation for Fulbright Scholars (2022–2023). US News & World Report ranks OSU's online Ecampus fourth nationally (2024). The Ecampus has held a top-10-ranking since 2015.\n",
      "\n",
      "Page: University of Oregon\n",
      "Summary: The University of Oregon (UO, U of O or Oregon) is a public research university in Eugene, Oregon. Founded in 1876, the university also has two Portland locations, and manages a marine station, called the Oregon Institute of Marine Biology, in Charleston; and an observatory, called Pine Mountain Observatory, in Central Oregon.\n",
      "The University of Oregon is organized into nine colleges and schools and offers 316 undergraduate and graduate degree programs. Most academic programs follow the 10 week Quarter System. The university is classified among \"R1:\u001b[0m\u001b[32;1m\u001b[1;3mTo find the address of Oregon Health & Science University (OHSU), we need to refine the search query to specifically look for the address.\n",
      "\n",
      "Action:\n",
      "```\n",
      "{\n",
      "  \"action\": \"wiki_search\",\n",
      "  \"action_input\": \"Oregon Health & Science University main campus address\"\n",
      "}\n",
      "``` \n",
      "\u001b[0m\u001b[36;1m\u001b[1;3mPage: Western University of Health Sciences\n",
      "Summary: Western University of Health Sciences (WesternU) is a private medical university in Pomona, California. With an enrollment of 3,724 students (2022–23), WesternU offers more than twenty academic programs in multiple colleges. It also operates an additional campus in Lebanon, Oregon.\n",
      "Under the banner of WesternU Health, the university operates a variety of patient care facilities in California and Oregon. The Pomona and Lebanon (Oregon) campuses both include a medical center, dental center, eye care institute, pharmacy, and travel health center. WesternU-Pomona also is home to the Pet Health Center, which provides veterinary services. Dental services are offered at the Rancho Mirage campus, while a Los Angeles campus provides optometry services.\n",
      "Several nonprofit organizations are based at the WesternU Pomona campus, including the Harris Family Center for Disability and Health Policy. The Center for Oral Health, moved from the Bay area to the WesternU Pomona campus in 2012. In 2015, the Southern California Medical Museum moved to the Pomona campus.\n",
      "Founded in 1977, the first program at WesternU was its medical school, the College of Osteopathic Medicine of the Pacific. In 2003, the College of Veterinary Medicine opened, and in 2009 the colleges of dental medicine, optometry, and podiatric medicine opened. In 2011, the university opened an additional campus in Lebanon, Oregon, the College of Osteopathic Medicine of the Pacific - Northwest (COMP-Northwest). In 2015, the university's founding president, Philip Pumerantz, retired.\n",
      "All of the programs at WesternU have professional accreditation and the university is accredited by the Western Association of Schools and Colleges.\n",
      "\n",
      "Page: Oregon State University\n",
      "Summary: Oregon State University (OSU) is a public land-grant research university based in Corvallis, Oregon. OSU offers more than 200 undergraduate-degree programs along with a variety of graduate and doctoral degrees through each college. It has the seventh-largest engineering college in the nation for 2023. Undergraduate enrollment for all colleges combined averages over 32,000 while an additional 5,000 students are engaged in post-graduate coursework through the university. In 2023, over 37,000 students were enrolled at OSU – making it the largest university in the state. Out-of-state students typically make up over one-quarter of the student body. Since its founding, over 272,000 students have graduated from OSU. The university is classified by the Carnegie Classification of Institutions of Higher Education as an \"...R1: Doctoral University,\" with \"...very high research activity.\"Chartered as a land-grant university initially, OSU became one of the four inaugural members of the Sea Grant in 1971. Memberships in the Space Grant and Sun Grant research consortias were awarded in 1991 and 2003, making it one of only three schools in the nation to obtain land, sun, sea and space grant memberships. OSU received a record high $449.9 million in research funding for the 2022 fiscal year and has ranked as the state's top earner in research funding for over 50 years. OSU is also one of the top five doctoral university destinations in the nation for Fulbright Scholars (2022–2023). US News & World Report ranks OSU's online Ecampus fourth nationally (2024). The Ecampus has held a top-10-ranking since 2015.\n",
      "\n",
      "Page: University of Oregon\n",
      "Summary: The University of Oregon (UO, U of O or Oregon) is a public research university in Eugene, Oregon. Founded in 1876, the university also has two Portland locations, and manages a marine station, called the Oregon Institute of Marine Biology, in Charleston; and an observatory, called Pine Mountain Observatory, in Central Oregon.\n",
      "The University of Oregon is organized into nine colleges and schools and offers 316 undergraduate and graduate degree programs. Most academic programs follow the 10 week Quarter System. The university is classified among \"R1:\u001b[0m\u001b[32;1m\u001b[1;3mI now know the final answer\n",
      "\n",
      "Final Answer: Oregon Health & Science University (OHSU) is a public research university founded in 1887, making it 134 years old. The main campus, including two hospitals, is located in Portland, Oregon. The specific address of OHSU can be found at 3181 SW Sam Jackson Park Rd, Portland, OR 97239.\u001b[0m\n",
      "\n",
      "\u001b[1m> Finished chain.\u001b[0m\n",
      "\n",
      "\n",
      "Oregon Health & Science University (OHSU) is a public research university founded in 1887, making it 134 years old. The main campus, including two hospitals, is located in Portland, Oregon. The specific address of OHSU can be found at 3181 SW Sam Jackson Park Rd, Portland, OR 97239.\n"
     ]
    }
   ],
   "source": [
    "invocation = agent_executor.invoke(\n",
    "    {\n",
    "        \"input\": \"What is OHSU? How old is it in years? At what address can I find it?\"\n",
    "    }\n",
    ")\n",
    "\n",
    "print(\"\\n\\n\" + invocation[\"output\"])"
   ]
  },
  {
   "cell_type": "markdown",
   "metadata": {},
   "source": [
    "# The Trace\n",
    "The Agent successfully answered the question correctly on the first run. Although it did make extraneous Wiki searches, I'm happy with the generated answer since it provides the requested information.\n",
    "\n",
    "You can check out the chain's trace [here](https://smith.langchain.com/public/c2ee4b39-493c-4e35-a9bd-c96eae6b0d94/r \"AgentExecutor: Full LangSmith trace\")."
   ]
  }
 ],
 "metadata": {
  "kernelspec": {
   "display_name": ".venv",
   "language": "python",
   "name": "python3"
  },
  "language_info": {
   "codemirror_mode": {
    "name": "ipython",
    "version": 3
   },
   "file_extension": ".py",
   "mimetype": "text/x-python",
   "name": "python",
   "nbconvert_exporter": "python",
   "pygments_lexer": "ipython3",
   "version": "3.10.10"
  }
 },
 "nbformat": 4,
 "nbformat_minor": 2
}
